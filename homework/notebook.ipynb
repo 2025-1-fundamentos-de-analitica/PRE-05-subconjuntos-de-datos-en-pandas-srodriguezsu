{
 "cells": [
  {
   "cell_type": "code",
   "execution_count": 10,
   "id": "6a851191",
   "metadata": {
    "ExecuteTime": {
     "end_time": "2025-05-07T15:38:27.102616300Z",
     "start_time": "2025-05-07T15:38:27.017117800Z"
    }
   },
   "outputs": [],
   "source": [
    "import pandas as pd  #  type: ignore\n",
    "\n",
    "pd.set_option(\"display.notebook_repr_html\", False)"
   ]
  },
  {
   "cell_type": "code",
   "execution_count": 11,
   "id": "d71e4102",
   "metadata": {
    "ExecuteTime": {
     "end_time": "2025-05-07T15:38:27.361674900Z",
     "start_time": "2025-05-07T15:38:27.093096100Z"
    }
   },
   "outputs": [
    {
     "data": {
      "text/plain": "   driverId  truckId eventTime eventType  longitude  latitude  \\\n0        14       25   59:21.4    Normal     -94.58     37.03   \n1        18       16   59:21.7    Normal     -89.66     39.78   \n2        27      105   59:21.7    Normal     -90.21     38.65   \n3        11       74   59:21.7    Normal     -90.20     38.65   \n4        22       87   59:21.7    Normal     -90.04     35.19   \n\n                     eventKey  CorrelationId       driverName     routeId  \\\n0   14|25|9223370572464814373   3.660000e+18       Adis Cesir   160405074   \n1   18|16|9223370572464814089   3.660000e+18        Grant Liu  1565885487   \n2  27|105|9223370572464814070   3.660000e+18  Mark Lochbihler  1325562373   \n3   11|74|9223370572464814123   3.660000e+18   Jamie Engesser  1567254452   \n4   22|87|9223370572464814101   3.660000e+18    Nadeem Asghar  1198242881   \n\n                                routeName      eventDate  \n0           Joplin to Kansas City Route 2  2016-05-27-22  \n1           Springfield to KC Via Hanibal  2016-05-27-22  \n2  Springfield to KC Via Columbia Route 2  2016-05-27-22  \n3           Saint Louis to Memphis Route2  2016-05-27-22  \n4           Saint Louis to Chicago Route2  2016-05-27-22  "
     },
     "execution_count": 11,
     "metadata": {},
     "output_type": "execute_result"
    }
   ],
   "source": [
    "# Carga del archivo desde un repo en GitHub\n",
    "truck_events = pd.read_csv(\"../files/input/truck_event_text_partition.csv\")\n",
    "\n",
    "# Cabecera del archivo\n",
    "truck_events.head()"
   ]
  },
  {
   "cell_type": "code",
   "execution_count": 12,
   "id": "bacc39a1",
   "metadata": {
    "ExecuteTime": {
     "end_time": "2025-05-07T15:38:27.472201200Z",
     "start_time": "2025-05-07T15:38:27.268150200Z"
    }
   },
   "outputs": [
    {
     "data": {
      "text/plain": "   driverId  truckId eventTime eventType  longitude  latitude  \\\n0        14       25   59:21.4    Normal     -94.58     37.03   \n1        18       16   59:21.7    Normal     -89.66     39.78   \n2        27      105   59:21.7    Normal     -90.21     38.65   \n3        11       74   59:21.7    Normal     -90.20     38.65   \n4        22       87   59:21.7    Normal     -90.04     35.19   \n5        22       87   59:22.3    Normal     -90.37     35.21   \n6        23       68   59:22.4    Normal     -89.91     40.86   \n7        11       74   59:22.5    Normal     -89.74     39.10   \n8        20       41   59:22.5    Normal     -93.36     41.69   \n9        32       42   59:22.5    Normal     -90.37     35.21   \n\n                     eventKey  CorrelationId       driverName     routeId  \\\n0   14|25|9223370572464814373   3.660000e+18       Adis Cesir   160405074   \n1   18|16|9223370572464814089   3.660000e+18        Grant Liu  1565885487   \n2  27|105|9223370572464814070   3.660000e+18  Mark Lochbihler  1325562373   \n3   11|74|9223370572464814123   3.660000e+18   Jamie Engesser  1567254452   \n4   22|87|9223370572464814101   3.660000e+18    Nadeem Asghar  1198242881   \n5   22|87|9223370572464813486   3.660000e+18    Nadeem Asghar  1198242881   \n6   23|68|9223370572464813450   3.660000e+18        Adam Diaz   160405074   \n7   11|74|9223370572464813355   3.660000e+18   Jamie Engesser  1567254452   \n8   20|41|9223370572464813344   3.660000e+18     Chris Harris   160779139   \n9   32|42|9223370572464813296   3.660000e+18   Ryan Templeton  1090292248   \n\n                                routeName      eventDate  \n0           Joplin to Kansas City Route 2  2016-05-27-22  \n1           Springfield to KC Via Hanibal  2016-05-27-22  \n2  Springfield to KC Via Columbia Route 2  2016-05-27-22  \n3           Saint Louis to Memphis Route2  2016-05-27-22  \n4           Saint Louis to Chicago Route2  2016-05-27-22  \n5           Saint Louis to Chicago Route2  2016-05-27-22  \n6           Joplin to Kansas City Route 2  2016-05-27-22  \n7           Saint Louis to Memphis Route2  2016-05-27-22  \n8           Des Moines to Chicago Route 2  2016-05-27-22  \n9          Peoria to Ceder Rapids Route 2  2016-05-27-22  "
     },
     "execution_count": 12,
     "metadata": {},
     "output_type": "execute_result"
    }
   ],
   "source": [
    "# Obtención de un subconjunto de registros\n",
    "truck_events_subset = truck_events[0:10]\n",
    "truck_events_subset"
   ]
  },
  {
   "cell_type": "code",
   "execution_count": 13,
   "id": "adf6a894",
   "metadata": {
    "ExecuteTime": {
     "end_time": "2025-05-07T15:38:27.540725900Z",
     "start_time": "2025-05-07T15:38:27.300726100Z"
    }
   },
   "outputs": [
    {
     "data": {
      "text/plain": "   driverId eventTime eventType\n0        14   59:21.4    Normal\n1        18   59:21.7    Normal\n2        27   59:21.7    Normal\n3        11   59:21.7    Normal\n4        22   59:21.7    Normal\n5        22   59:22.3    Normal\n6        23   59:22.4    Normal\n7        11   59:22.5    Normal\n8        20   59:22.5    Normal\n9        32   59:22.5    Normal"
     },
     "execution_count": 13,
     "metadata": {},
     "output_type": "execute_result"
    }
   ],
   "source": [
    "# Obtención de un subconjunto de columnas\n",
    "specific_columns = truck_events_subset[[\"driverId\", \"eventTime\", \"eventType\"]]\n",
    "specific_columns"
   ]
  },
  {
   "cell_type": "code",
   "execution_count": 14,
   "id": "8c62f08c",
   "metadata": {
    "ExecuteTime": {
     "end_time": "2025-05-07T15:38:27.709796200Z",
     "start_time": "2025-05-07T15:38:27.405211600Z"
    }
   },
   "outputs": [
    {
     "data": {
      "text/plain": "    driverId eventTime eventType\n0         14   59:21.4    Normal\n1         18   59:21.7    Normal\n2         27   59:21.7    Normal\n3         11   59:21.7    Normal\n4         22   59:21.7    Normal\n5         22   59:22.3    Normal\n6         23   59:22.4    Normal\n7         11   59:22.5    Normal\n8         20   59:22.5    Normal\n9         32   59:22.5    Normal\n10        27   59:22.6    Normal"
     },
     "execution_count": 14,
     "metadata": {},
     "output_type": "execute_result"
    }
   ],
   "source": [
    "# Obtención de un subconjunto de filas y columnas\n",
    "new_sub_set = truck_events.loc[0:10, [\"driverId\", \"eventTime\", \"eventType\"]]\n",
    "new_sub_set\n"
   ]
  },
  {
   "cell_type": "code",
   "execution_count": 15,
   "id": "cb5c28c5",
   "metadata": {
    "ExecuteTime": {
     "end_time": "2025-05-07T15:38:27.803321100Z",
     "start_time": "2025-05-07T15:38:27.586744Z"
    }
   },
   "outputs": [
    {
     "data": {
      "text/plain": "driverId                                    18\ntruckId                                     16\neventTime                              59:21.7\neventType                               Normal\nlongitude                               -89.66\nlatitude                                 39.78\neventKey             18|16|9223370572464814089\nCorrelationId            3660000000000000000.0\ndriverName                           Grant Liu\nrouteId                             1565885487\nrouteName        Springfield to KC Via Hanibal\neventDate                        2016-05-27-22\nName: 1, dtype: object"
     },
     "execution_count": 15,
     "metadata": {},
     "output_type": "execute_result"
    }
   ],
   "source": [
    "# Obtención de un campo de un registro en particular\n",
    "truck_events.iloc[1]"
   ]
  },
  {
   "cell_type": "code",
   "execution_count": 16,
   "id": "bfb739a1",
   "metadata": {
    "ExecuteTime": {
     "end_time": "2025-05-07T15:38:27.906510800Z",
     "start_time": "2025-05-07T15:38:27.750796900Z"
    }
   },
   "outputs": [
    {
     "data": {
      "text/plain": "'18|16|9223370572464814089'"
     },
     "execution_count": 16,
     "metadata": {},
     "output_type": "execute_result"
    }
   ],
   "source": [
    "truck_events.iloc[1].eventKey"
   ]
  },
  {
   "cell_type": "code",
   "execution_count": 17,
   "id": "2a511aa1",
   "metadata": {
    "ExecuteTime": {
     "end_time": "2025-05-07T15:38:27.999037800Z",
     "start_time": "2025-05-07T15:38:27.844324300Z"
    }
   },
   "outputs": [
    {
     "data": {
      "text/plain": "'18|16|9223370572464814089'"
     },
     "execution_count": 17,
     "metadata": {},
     "output_type": "execute_result"
    }
   ],
   "source": [
    "truck_events.iloc[1][\"eventKey\"]"
   ]
  },
  {
   "cell_type": "code",
   "execution_count": 18,
   "id": "6730988d",
   "metadata": {
    "ExecuteTime": {
     "end_time": "2025-05-07T15:38:28.053034900Z",
     "start_time": "2025-05-07T15:38:27.930514500Z"
    }
   },
   "outputs": [
    {
     "name": "stderr",
     "output_type": "stream",
     "text": [
      "\"cat\" no se reconoce como un comando interno o externo,\n",
      "programa o archivo por lotes ejecutable.\n"
     ]
    }
   ],
   "source": [
    "# Escritura de la tabla en el disco\n",
    "import os\n",
    "\n",
    "if not os.path.exists(\"../files/output/\"):\n",
    "    os.makedirs(\"../files/output/\")\n",
    "\n",
    "specific_columns.to_csv(\n",
    "    \"../files/output/specific-columns.csv\",\n",
    "    sep=\",\",\n",
    "    header=True,\n",
    "    index=False,\n",
    ")\n",
    "\n",
    "!cat ../files/output/specific-columns.csv"
   ]
  }
 ],
 "metadata": {
  "kernelspec": {
   "display_name": ".venv",
   "language": "python",
   "name": "python3"
  },
  "language_info": {
   "codemirror_mode": {
    "name": "ipython",
    "version": 3
   },
   "file_extension": ".py",
   "mimetype": "text/x-python",
   "name": "python",
   "nbconvert_exporter": "python",
   "pygments_lexer": "ipython3",
   "version": "3.9.6"
  }
 },
 "nbformat": 4,
 "nbformat_minor": 5
}
